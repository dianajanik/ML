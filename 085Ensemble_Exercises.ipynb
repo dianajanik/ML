{
 "cells": [
  {
   "cell_type": "markdown",
   "metadata": {},
   "source": [
    "# Ensemble methods. Exercises\n",
    "\n",
    "\n",
    "In this section we have only one exercise:\n",
    "\n",
    "1. Find the best three classifier in the stacking method using the classifiers from scikit-learn package, such as:\n",
    "\n",
    "\n",
    "* Linear regression,\n",
    "* Nearest Neighbors,\n",
    "* Linear SVM,\n",
    "* Decision Tree,\n",
    "* Naive Bayes,\n",
    "* QDA."
   ]
  },
  {
   "cell_type": "code",
   "execution_count": 1,
   "metadata": {},
   "outputs": [],
   "source": [
    "%store -r data_set\n",
    "%store -r labels\n",
    "%store -r test_data_set\n",
    "%store -r test_labels\n",
    "%store -r unique_labels"
   ]
  },
  {
   "cell_type": "markdown",
   "metadata": {},
   "source": [
    "## Exercise 1: Find the best three classifier in the stacking method"
   ]
  },
  {
   "cell_type": "code",
   "execution_count": 2,
   "metadata": {},
   "outputs": [],
   "source": [
    "import numpy as np\n",
    "from sklearn.metrics import accuracy_score\n",
    "\n",
    "from sklearn.linear_model import LinearRegression\n",
    "from sklearn.neighbors import KNeighborsClassifier\n",
    "from sklearn.svm import SVC\n",
    "from sklearn.tree import DecisionTreeClassifier\n",
    "from sklearn.naive_bayes import GaussianNB\n",
    "from sklearn.discriminant_analysis import QuadraticDiscriminantAnalysis"
   ]
  },
  {
   "cell_type": "code",
   "execution_count": 3,
   "metadata": {},
   "outputs": [],
   "source": [
    "def build_classifiers():\n",
    "    \"\"\"\n",
    "    Creates objects of models from Sklearn library: \n",
    "        - Linear regression\n",
    "        - Nearest Neighbors\n",
    "        - Linear SVM\n",
    "        - Decision Tree\n",
    "        - Naive Bayes\n",
    "        - QDA\n",
    "        \n",
    "    Returns\n",
    "    -------\n",
    "    dict(str: BaseEstimator)\n",
    "        Dictionary containing all models\n",
    "    \n",
    "    \"\"\"\n",
    "    \n",
    "    linear_regression_model = LinearRegression()\n",
    "    linear_regression_model.fit(data_set, labels)\n",
    "    \n",
    "    k_neighbors_model = KNeighborsClassifier()\n",
    "    k_neighbors_model.fit(data_set, labels)\n",
    "    \n",
    "    svc_model = SVC()\n",
    "    svc_model.fit(data_set, labels)\n",
    "    \n",
    "    decision_tree_model = DecisionTreeClassifier()\n",
    "    decision_tree_model.fit(data_set, labels)\n",
    "    \n",
    "    naive_bayes_model = GaussianNB()\n",
    "    naive_bayes_model.fit(data_set, labels)\n",
    "    \n",
    "    quadratic_discriminant_model = QuadraticDiscriminantAnalysis()\n",
    "    quadratic_discriminant_model.fit(data_set, labels)\n",
    "    \n",
    "    return dict(linear_regression_model = linear_regression_model,\n",
    "                k_neighbors_model = k_neighbors_model,\n",
    "                svc_model = svc_model,\n",
    "                decision_tree_model = decision_tree_model,\n",
    "                naive_bayes_model = naive_bayes_model, \n",
    "                quadratic_discriminant_model = quadratic_discriminant_model)"
   ]
  },
  {
   "cell_type": "code",
   "execution_count": 4,
   "metadata": {},
   "outputs": [],
   "source": [
    "def build_stacked_classifier(classifiers):\n",
    "    output = []\n",
    "    for classifier in classifiers:\n",
    "        output.append(classifier.predict(data_set))\n",
    "    output = np.array(output).reshape((130,3))\n",
    "    \n",
    "    # stacked classifier part:\n",
    "    stacked_classifier = DecisionTreeClassifier()\n",
    "    stacked_classifier.fit(output.reshape((130,3)), labels.reshape((130,)))\n",
    "    test_set = []\n",
    "    for classifier in classifiers:\n",
    "        test_set.append(classifier.predict(test_data_set))\n",
    "    test_set = np.array(test_set).reshape((len(test_set[0]),3))\n",
    "    predicted = stacked_classifier.predict(test_set)\n",
    "    return predicted"
   ]
  },
  {
   "cell_type": "code",
   "execution_count": 5,
   "metadata": {},
   "outputs": [],
   "source": [
    "import itertools\n",
    "\n",
    "def predict_all():\n",
    "    \"\"\"\n",
    "    Creates all listed classifiers, for each combination creates stacked classifier\n",
    "    and saves the accuracy.\n",
    "    \n",
    "    Returns\n",
    "    -------\n",
    "    classifiers_sets: List[ dict( str: BaseEstimator, float) ]\n",
    "        each dictionary contains 3 values of BaseEstimator \n",
    "        and float value for 'accuracy' key\n",
    "    \n",
    "    \"\"\"\n",
    "    all_classifiers = build_classifiers()\n",
    "    classifiers_sets = []\n",
    "    combinations = itertools.combinations(all_classifiers, 3)\n",
    "    for c in combinations:\n",
    "        # if labels are unique\n",
    "        if len(c) == len(set(c)):\n",
    "            c_set = {}\n",
    "            for i in c:\n",
    "                c_set[i] = all_classifiers[i]\n",
    "            classifiers_sets.append(c_set)\n",
    "\n",
    "    for c_set in classifiers_sets:\n",
    "        predicted = build_stacked_classifier(c_set.values())\n",
    "        accuracy = accuracy_score(test_labels, predicted)\n",
    "        c_set['accuracy'] = accuracy\n",
    "        \n",
    "    return classifiers_sets"
   ]
  },
  {
   "cell_type": "code",
   "execution_count": 6,
   "metadata": {},
   "outputs": [
    {
     "name": "stdout",
     "output_type": "stream",
     "text": [
      "Best set : dict_keys(['k_neighbors_model', 'decision_tree_model', 'quadratic_discriminant_model']) , accuracy : 0.95 \n"
     ]
    },
    {
     "name": "stderr",
     "output_type": "stream",
     "text": [
      "/anaconda3/lib/python3.7/site-packages/sklearn/svm/base.py:196: FutureWarning: The default value of gamma will change from 'auto' to 'scale' in version 0.22 to account better for unscaled features. Set gamma explicitly to 'auto' or 'scale' to avoid this warning.\n",
      "  \"avoid this warning.\", FutureWarning)\n"
     ]
    }
   ],
   "source": [
    "classifiers_sets = predict_all()\n",
    "best_set = max(classifiers_sets, key = lambda x: x['accuracy'])\n",
    "accuracy = best_set.pop('accuracy')\n",
    "\n",
    "print(\"Best set : {} , accuracy : {} \".format(best_set.keys(),accuracy ))"
   ]
  },
  {
   "cell_type": "markdown",
   "metadata": {},
   "source": [
    "## Summary\n",
    "\n",
    "The best accuracy of stacked classifier that was generated is 0,95.\n",
    "The stacked classifier was created basen on 3 classifiers : Nearest Neighbors, Decision Tree and QDA. \n"
   ]
  },
  {
   "cell_type": "code",
   "execution_count": null,
   "metadata": {},
   "outputs": [],
   "source": []
  }
 ],
 "metadata": {
  "kernelspec": {
   "display_name": "Python 3",
   "language": "python",
   "name": "python3"
  },
  "language_info": {
   "codemirror_mode": {
    "name": "ipython",
    "version": 3
   },
   "file_extension": ".py",
   "mimetype": "text/x-python",
   "name": "python",
   "nbconvert_exporter": "python",
   "pygments_lexer": "ipython3",
   "version": "3.7.1"
  }
 },
 "nbformat": 4,
 "nbformat_minor": 2
}
