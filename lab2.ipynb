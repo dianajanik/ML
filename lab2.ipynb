{
 "cells": [
  {
   "cell_type": "markdown",
   "metadata": {},
   "source": [
    "# Naive Bayes"
   ]
  },
  {
   "cell_type": "code",
   "execution_count": 1,
   "metadata": {},
   "outputs": [],
   "source": [
    "import numpy as np\n",
    "import operator\n",
    "import functools\n",
    "from nltk.tokenize import word_tokenize\n",
    "\n",
    "class NaiveBayes:\n",
    "    def __init__(self, training_set, labels):\n",
    "        self.k = len(labels)\n",
    "        self.labels = labels\n",
    "        self.prios = np.zeros(self.k)\n",
    "        words_classes = [ [word_tokenize(training_sentence) for training_sentence in training_text ]\n",
    "                                                            for training_text in training_set]\n",
    "        words_classes = []\n",
    "        for i in range(self.k):\n",
    "            w_i = [word_tokenize(training_sentence) for training_sentence in training_set[i]]\n",
    "            words_classes.append(functools.reduce(lambda a,b : a + b, w_i))\n",
    "            \n",
    "        training_set_len = sum(sum(len(word) for word in words) for words in words_classes)\n",
    "        self.likelihood = [{} for _ in range(self.k)]\n",
    "        for i in range(self.k):\n",
    "            self.likelihood[i] = {word : (words_classes[i].count(word) + 0.5) \n",
    "                                              / (len(words_classes[i]) + 0.5) \n",
    "                                              for word in words_classes[i]}\n",
    "        \n",
    "        self.priors = [len(words_classes[i]) / training_set_len for i in range(self.k)]\n",
    "        \n",
    "    def predict(self, text):\n",
    "        probabilities = self._get_probabilities(text)\n",
    "        max_index, max_value = max(enumerate(probabilities), key=operator.itemgetter(1))\n",
    "        return self.labels[max_index]\n",
    "    \n",
    "    def _get_probabilities(self, text):\n",
    "        words = word_tokenize(text)\n",
    "        probabilities = []\n",
    "        for i in range(self.k):\n",
    "            words_probabilities = [self.likelihood[i][word] if word in self.likelihood[i] \n",
    "                                   else np.finfo(np.float32).eps for word in words]\n",
    "            probabilities.append(functools.reduce(operator.mul, words_probabilities, 1))\n",
    "        return probabilities\n",
    "                "
   ]
  },
  {
   "cell_type": "markdown",
   "metadata": {},
   "source": [
    "#### Feed model with training data\n",
    "Data used to train and test this data can be found on webpage : https://archive.ics.uci.edu/ml/machine-learning-databases/00331/ \n",
    "\n",
    "Model is train based on \"yelp_labelled.txt\" file and tested based on \"amazon_cells_labelled.txt\" file."
   ]
  },
  {
   "cell_type": "code",
   "execution_count": 2,
   "metadata": {},
   "outputs": [],
   "source": [
    "import pandas as pd\n",
    "\n",
    "def devide_data(data):\n",
    "    positive = []\n",
    "    negative = []\n",
    "    for sentence, label in zip(data['sentence'], data['label']):\n",
    "        if label == 1:\n",
    "            positive.append(sentence)\n",
    "        else:\n",
    "            negative.append(sentence)\n",
    "            \n",
    "    return (positive, negative)\n",
    "    \n",
    "training_data = pd.read_csv('yelp_labelled.txt', sep=\"\\t\")\n",
    "training_data.columns = [\"sentence\", \"label\"]\n",
    "positive, negative = devide_data(training_data)\n",
    "\n",
    "nb = NaiveBayes([positive, negative], [1, 0])"
   ]
  },
  {
   "cell_type": "markdown",
   "metadata": {},
   "source": [
    "#### Import testing data & predict"
   ]
  },
  {
   "cell_type": "code",
   "execution_count": 3,
   "metadata": {},
   "outputs": [],
   "source": [
    "testing_data = pd.read_csv('amazon_cells_labelled.txt', sep=\"\\t\")\n",
    "testing_data.columns = [\"sentence\", \"label\"]\n",
    "predictions_naive_bayes = [ nb.predict(sentence) for sentence in testing_data['sentence']]"
   ]
  },
  {
   "cell_type": "code",
   "execution_count": 13,
   "metadata": {},
   "outputs": [
    {
     "name": "stdout",
     "output_type": "stream",
     "text": [
      "Confusion matrix : \n",
      " [[379 120]\n",
      " [184 316]]\n"
     ]
    },
    {
     "data": {
      "text/plain": [
       "Text(0.5, 15.0, 'Predicted label')"
      ]
     },
     "execution_count": 13,
     "metadata": {},
     "output_type": "execute_result"
    },
    {
     "data": {
      "image/png": "[encoded data removed]",
      "text/plain": [
       "<Figure size 432x288 with 2 Axes>"
      ]
     },
     "metadata": {
      "needs_background": "light"
     },
     "output_type": "display_data"
    }
   ],
   "source": [
    "from sklearn.metrics import accuracy_score, confusion_matrix, classification_report\n",
    "from sklearn.model_selection import cross_val_predict\n",
    "import seaborn as sns\n",
    "import matplotlib\n",
    "import matplotlib.pyplot as plt\n",
    "\n",
    "\n",
    "# Generate confusion matrix:\n",
    "conf_mat=confusion_matrix(testing_data['label'], predictions_naive_bayes)\n",
    "print(\"Confusion matrix : \\n {}\".format(conf_mat))\n",
    "conf_mat_normalized = conf_mat.astype('float') / conf_mat.sum(axis=1)[:, np.newaxis]\n",
    "sns.heatmap(conf_mat_normalized)\n",
    "plt.ylabel('True label')\n",
    "plt.xlabel('Predicted label')"
   ]
  },
  {
   "cell_type": "code",
   "execution_count": 5,
   "metadata": {},
   "outputs": [
    {
     "name": "stdout",
     "output_type": "stream",
     "text": [
      "0.6956956956956957\n"
     ]
    }
   ],
   "source": [
    "# Accuracy \n",
    "accuracy = {}\n",
    "accuracy['naive_bayes'] = accuracy_score(testing_data['label'],predictions_naive_bayes)\n",
    "print(str(accuracy['naive_bayes']))"
   ]
  },
  {
   "cell_type": "code",
   "execution_count": 6,
   "metadata": {},
   "outputs": [
    {
     "name": "stdout",
     "output_type": "stream",
     "text": [
      "0.7247706422018348\n"
     ]
    }
   ],
   "source": [
    "# Precision\n",
    "from sklearn.metrics import precision_score\n",
    "precision = precision_score(testing_data['label'],predictions_naive_bayes)\n",
    "print(str(precision))"
   ]
  },
  {
   "cell_type": "code",
   "execution_count": 7,
   "metadata": {},
   "outputs": [
    {
     "name": "stdout",
     "output_type": "stream",
     "text": [
      "0.632\n"
     ]
    }
   ],
   "source": [
    "#Recall score\n",
    "from sklearn.metrics import recall_score\n",
    "recall_score = recall_score(testing_data['label'],predictions_naive_bayes)\n",
    "print(str(recall_score))"
   ]
  },
  {
   "cell_type": "markdown",
   "metadata": {},
   "source": [
    "## Compare with other classifier"
   ]
  },
  {
   "cell_type": "code",
   "execution_count": 8,
   "metadata": {},
   "outputs": [],
   "source": [
    "def prepare_data(data_positive, data_negative, features=None):\n",
    "    if features is None:\n",
    "        _features = functools.reduce(lambda a,b : a + b, [data_positive, data_negative])\n",
    "        features = list(set(functools.reduce(lambda a,b : a + b, _features)))\n",
    "    \n",
    "    Y = [1 for _ in range(len(data_positive))] + [0 for _ in range(len(data_negative))]\n",
    "    sentence_features = [0 for _ in range(len(features))]\n",
    "    total_len = len(data_positive) + len(data_negative)\n",
    "    X = [sentence_features for _ in range(total_len)]\n",
    "\n",
    "    for sentence, i in zip(data_positive + data_negative, range(total_len)):\n",
    "        words = word_tokenize(sentence)\n",
    "        words = list(set(words))\n",
    "        for word in words:\n",
    "            occurance = words.count(word)\n",
    "            if word in features:\n",
    "                index = features.index(word)\n",
    "                X[i][index] = occurance\n",
    "                \n",
    "    return(X,Y, features)\n",
    "    \n",
    "    \n",
    "# prepare training data\n",
    "training_X, training_Y, features = prepare_data(positive, negative)\n",
    "\n",
    "# prepare test data\n",
    "positive_test, negative_test = devide_data(testing_data)\n",
    "testing_X, testing_Y, features = prepare_data(positive_test, negative_test, features)\n"
   ]
  },
  {
   "cell_type": "markdown",
   "metadata": {},
   "source": [
    "#### Multinomial Naive Bayes from sklearn "
   ]
  },
  {
   "cell_type": "code",
   "execution_count": 9,
   "metadata": {},
   "outputs": [
    {
     "name": "stdout",
     "output_type": "stream",
     "text": [
      "0.5005005005005005\n"
     ]
    }
   ],
   "source": [
    "from sklearn.naive_bayes import MultinomialNB\n",
    "\n",
    "snb = MultinomialNB()\n",
    "snb.fit(training_X, training_Y)\n",
    "\n",
    "naive_bayes_sklearn_predictions = snb.predict(testing_X)\n",
    "accuracy['sklearn_naive_bayes'] = accuracy_score(testing_Y, naive_bayes_sklearn_predictions)\n",
    "print(str(accuracy['sklearn_naive_bayes']))"
   ]
  },
  {
   "cell_type": "markdown",
   "metadata": {},
   "source": [
    "#### Logistic Regression from sklearn "
   ]
  },
  {
   "cell_type": "code",
   "execution_count": 10,
   "metadata": {},
   "outputs": [
    {
     "name": "stdout",
     "output_type": "stream",
     "text": [
      "0.4994994994994995\n"
     ]
    },
    {
     "name": "stderr",
     "output_type": "stream",
     "text": [
      "/anaconda3/lib/python3.7/site-packages/sklearn/linear_model/logistic.py:433: FutureWarning: Default solver will be changed to 'lbfgs' in 0.22. Specify a solver to silence this warning.\n",
      "  FutureWarning)\n"
     ]
    }
   ],
   "source": [
    "from sklearn.linear_model import LogisticRegression\n",
    "\n",
    "model = LogisticRegression()\n",
    "model.fit(training_X, training_Y)\n",
    "logistic_regression_predictions = model.predict(testing_X)\n",
    "accuracy['logistic_regression'] = accuracy_score(testing_Y, logistic_regression_predictions)\n",
    "print(str(accuracy['logistic_regression']))"
   ]
  },
  {
   "cell_type": "markdown",
   "metadata": {},
   "source": [
    "#### K-NN classifier from sklearn"
   ]
  },
  {
   "cell_type": "code",
   "execution_count": 11,
   "metadata": {},
   "outputs": [
    {
     "name": "stdout",
     "output_type": "stream",
     "text": [
      "0.5005005005005005\n"
     ]
    }
   ],
   "source": [
    "from sklearn.neighbors import KNeighborsClassifier\n",
    "model = KNeighborsClassifier(n_neighbors=5)\n",
    "model.fit(training_X, training_Y)\n",
    "knn_predictions = model.predict(testing_X)\n",
    "accuracy['k_nn'] = accuracy_score(testing_Y,knn_predictions)\n",
    "print(str(accuracy['k_nn']))"
   ]
  },
  {
   "cell_type": "markdown",
   "metadata": {},
   "source": [
    "#### Compare values"
   ]
  },
  {
   "cell_type": "code",
   "execution_count": 12,
   "metadata": {},
   "outputs": [
    {
     "name": "stdout",
     "output_type": "stream",
     "text": [
      "Best accuracy : 0.6956956956956957 with model : naive_bayes  \n"
     ]
    }
   ],
   "source": [
    "best = max(accuracy.items(), key=operator.itemgetter(1))[0]\n",
    "print(\"Best accuracy : {} with model : {}  \".format(accuracy[best], best))"
   ]
  },
  {
   "cell_type": "markdown",
   "metadata": {},
   "source": [
    "With given data set my custom model of Naive Bayes turn out to be a bit beter the other ones from Sklean library when taking into consideration accuracy."
   ]
  }
 ],
 "metadata": {
  "kernelspec": {
   "display_name": "Python 3",
   "language": "python",
   "name": "python3"
  },
  "language_info": {
   "codemirror_mode": {
    "name": "ipython",
    "version": 3
   },
   "file_extension": ".py",
   "mimetype": "text/x-python",
   "name": "python",
   "nbconvert_exporter": "python",
   "pygments_lexer": "ipython3",
   "version": "3.7.1"
  }
 },
 "nbformat": 4,
 "nbformat_minor": 2
}
