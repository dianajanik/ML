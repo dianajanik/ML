{
 "cells": [
  {
   "cell_type": "markdown",
   "metadata": {},
   "source": [
    "# Homework 12\n",
    "\n",
    "- Implement a Perceptron. \n",
    "- Train and test it for the Iris data set below \n",
    "- visualise the data points and the decission boundry of your trained Perceptron on a 2D plot (petal length vs petal width)\n",
    "- compare to sklearn implementation"
   ]
  },
  {
   "cell_type": "markdown",
   "metadata": {},
   "source": [
    "### Load Data"
   ]
  },
  {
   "cell_type": "code",
   "execution_count": 1,
   "metadata": {},
   "outputs": [],
   "source": [
    "import numpy as np\n",
    "from sklearn.datasets import load_iris\n",
    "from sklearn.model_selection import train_test_split\n",
    "iris = load_iris()\n",
    "X = iris.data[:, (2, 3)]  # use only petal length and petal width\n",
    "y = (iris.target == 0).astype(np.int) # check only if it's an Iris-Setosa (1), or no (0)\n",
    "\n",
    "# split data\n",
    "X_train, X_test, y_train, y_test = train_test_split(X, y, test_size=0.25)"
   ]
  },
  {
   "cell_type": "markdown",
   "metadata": {},
   "source": [
    "### Perceptron "
   ]
  },
  {
   "cell_type": "code",
   "execution_count": 2,
   "metadata": {},
   "outputs": [],
   "source": [
    "import random\n",
    "\n",
    "\n",
    "def sigmoid(z):\n",
    "    \"\"\"The sigmoid function.\"\"\"\n",
    "    return 1.0 / (1.0 + np.exp(-z))\n",
    "\n",
    "\n",
    "def sigmoid_prime(z):\n",
    "    \"\"\"Derivative of the sigmoid function.\"\"\"\n",
    "    return sigmoid(z) * (1 - sigmoid(z))\n",
    "\n",
    "\n",
    "class Perceptron:\n",
    "    def __init__(self, alpha=0.01, max_iter=1000):\n",
    "        self.alpha = alpha\n",
    "        self.max_iter = max_iter\n",
    "        self.weights = []\n",
    "        self.X = None\n",
    "        self.y = None\n",
    "        self.n_samples = 0\n",
    "        self.n_features = 0\n",
    "        self.bias = random.random()\n",
    "\n",
    "    def fit(self, X, y):\n",
    "        self.X, self.y, self.n_features, self.n_samples = X, y, len(X[0]), len(y)\n",
    "        self.weights = [random.random() for _ in range(self.n_features)]\n",
    "        self.bias = random.random()\n",
    "        self._calculate_weights_and_bias()\n",
    "\n",
    "    def _calculate_weights_and_bias(self):\n",
    "        weights_parts = []\n",
    "        for iteration in range(self.max_iter):\n",
    "            prediction, sum_diff = None, 0\n",
    "            for sample in range(self.n_samples):\n",
    "                weights_parts = [0 for _ in range(self.n_features)]\n",
    "                for feature in range(self.n_features):\n",
    "                    weights_parts[feature] = self.weights[feature] * self.X[sample, feature]\n",
    "                for feature in range(self.n_features):\n",
    "                    prediction = sigmoid(\n",
    "                        self._polynomial(self.X[sample], weights_parts) * self.X[sample, feature])\n",
    "                    sum_diff += abs(self.y[sample] - prediction)\n",
    "            for sample in range(self.n_features):\n",
    "                self.weights[sample] -= (self.alpha / self.n_samples) * sum_diff\n",
    "            self.bias -= (self.alpha / self.n_samples) * sum_diff\n",
    "\n",
    "    def _polynomial(self, x, weights=None):\n",
    "        if weights is None:\n",
    "            weights = self.weights\n",
    "        polynomial = 0\n",
    "        for feature in range(self.n_features):\n",
    "            polynomial += x[feature] * weights[feature]\n",
    "        return polynomial + self.bias\n",
    "\n",
    "    def predict(self, X):\n",
    "        return [sigmoid(self._polynomial(X[i])) for i in range(len(X))]\n",
    "\n",
    "    def score(self, predictions, labels):\n",
    "        correct_predictions = 0\n",
    "        for prediction, label in zip(predictions, labels):\n",
    "            correct_predictions += 1 if (label == 0 and prediction < 0.5) or (label == 1 and prediction >= 0.5) else 0\n",
    "        return correct_predictions / len(predictions)\n",
    "\n"
   ]
  },
  {
   "cell_type": "markdown",
   "metadata": {},
   "source": [
    "### Test Perceptron class"
   ]
  },
  {
   "cell_type": "code",
   "execution_count": 3,
   "metadata": {},
   "outputs": [
    {
     "name": "stdout",
     "output_type": "stream",
     "text": [
      "My perceptron score : 0.7105263157894737\n"
     ]
    }
   ],
   "source": [
    "import matplotlib.pyplot as plt\n",
    "\n",
    "perceptron = Perceptron()\n",
    "perceptron.fit(X_train, y_train)\n",
    "predicted = perceptron.predict(X_test)\n",
    "score = perceptron.score(predicted, y_test)\n",
    "print(\"My perceptron score : {}\".format(score))\n",
    "\n"
   ]
  },
  {
   "cell_type": "code",
   "execution_count": 4,
   "metadata": {},
   "outputs": [
    {
     "data": {
      "image/png": "[encoded data removed]",
      "text/plain": [
       "<Figure size 576x432 with 1 Axes>"
      ]
     },
     "metadata": {
      "needs_background": "light"
     },
     "output_type": "display_data"
    }
   ],
   "source": [
    "# visualise\n",
    "plt.rcParams['axes.labelsize'] = 14\n",
    "plt.figure(2, figsize=(8, 6))\n",
    "plt.scatter(X[:, 0], X[:, 1], c=y )\n",
    "\n",
    "[weight0, weight1], bias = perceptron.weights, perceptron.bias\n",
    "_x = -bias/weight0\n",
    "_y = -bias/weight1\n",
    "b = _y\n",
    "a = -_y/_x\n",
    "_x *= max(X[:,1])\n",
    "_y *= max(X[:,0])\n",
    "coordinate_x = np.array([- 2*_x, 0])\n",
    "coordinate_y = a* -coordinate_x[::-1]/2 + b\n",
    "\n",
    "plt.plot(coordinate_x, coordinate_y)\n",
    "plt.scatter(X[:, 0], X[:, 1], c=y)\n",
    "plt.show()"
   ]
  },
  {
   "cell_type": "markdown",
   "metadata": {},
   "source": [
    "### Compere with Sklearn perceptron"
   ]
  },
  {
   "cell_type": "code",
   "execution_count": 5,
   "metadata": {},
   "outputs": [
    {
     "name": "stdout",
     "output_type": "stream",
     "text": [
      "Skearn perceptron score : 1.0\n"
     ]
    },
    {
     "name": "stderr",
     "output_type": "stream",
     "text": [
      "/anaconda3/lib/python3.7/site-packages/sklearn/linear_model/stochastic_gradient.py:166: FutureWarning: max_iter and tol parameters have been added in Perceptron in 0.19. If both are left unset, they default to max_iter=5 and tol=None. If tol is not None, max_iter defaults to max_iter=1000. From 0.21, default max_iter will be 1000, and default tol will be 1e-3.\n",
      "  FutureWarning)\n"
     ]
    }
   ],
   "source": [
    "from sklearn.linear_model import Perceptron as SP\n",
    "\n",
    "sp = SP()\n",
    "sp.fit(X_train, y_train)\n",
    "sp_score = sp.score(X_test, y_test)\n",
    "print(\"Skearn perceptron score : {}\".format(sp_score))\n"
   ]
  },
  {
   "cell_type": "markdown",
   "metadata": {},
   "source": [
    "### Conclusion\n",
    "\n",
    "My perceptron implementation is quite good, though the perceptron class from sklearn has better accuracy score for given data set.\n"
   ]
  },
  {
   "cell_type": "code",
   "execution_count": null,
   "metadata": {},
   "outputs": [],
   "source": []
  }
 ],
 "metadata": {
  "kernelspec": {
   "display_name": "Python 3",
   "language": "python",
   "name": "python3"
  },
  "language_info": {
   "codemirror_mode": {
    "name": "ipython",
    "version": 3
   },
   "file_extension": ".py",
   "mimetype": "text/x-python",
   "name": "python",
   "nbconvert_exporter": "python",
   "pygments_lexer": "ipython3",
   "version": "3.7.1"
  }
 },
 "nbformat": 4,
 "nbformat_minor": 2
}
